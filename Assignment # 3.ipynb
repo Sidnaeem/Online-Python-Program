{
 "cells": [
  {
   "cell_type": "code",
   "execution_count": 7,
   "id": "9a00fd26",
   "metadata": {},
   "outputs": [
    {
     "name": "stdout",
     "output_type": "stream",
     "text": [
      "Twinkle, twinkle, little star, \n",
      "\tHow I wonder what you are! \n",
      "\t\tUp above the world so high, \n",
      "\t\tLike a diamond in the sky. \n",
      "Twinkle, twinkle, little star, \n",
      "\tHow I wonder what you are\n"
     ]
    }
   ],
   "source": [
    "# 1. Write a Python program to print the following string in a specific format (see the output).\n",
    "# Twinkle, twinkle, little star,\n",
    "#        How I wonder what you are!\n",
    "#               Up above the world so high,\n",
    "#               Like a diamond in the sky.\n",
    "# Twinkle, twinkle, little star,\n",
    "#        How I wonder what you are \n",
    "\n",
    "\n",
    "print(\"Twinkle, twinkle, little star, \\n\\tHow I wonder what you are! \\n\\t\\tUp above the world so high, \\n\\t\\tLike a diamond in the sky. \\nTwinkle, twinkle, little star, \\n\\tHow I wonder what you are\");\n",
    "\n"
   ]
  },
  {
   "cell_type": "code",
   "execution_count": 8,
   "id": "4432451c",
   "metadata": {},
   "outputs": [
    {
     "name": "stdout",
     "output_type": "stream",
     "text": [
      "3.8.8 (default, Apr 13 2021, 15:08:07) [MSC v.1916 32 bit (Intel)]\n"
     ]
    }
   ],
   "source": [
    "# 2. Write a Python program to get the Python version you are using \n",
    "\n",
    "import sys;\n",
    "print(sys.version);"
   ]
  },
  {
   "cell_type": "code",
   "execution_count": 4,
   "id": "98547cd7",
   "metadata": {},
   "outputs": [
    {
     "name": "stdout",
     "output_type": "stream",
     "text": [
      "Today's date: 2021-10-23\n"
     ]
    }
   ],
   "source": [
    "from datetime import date;\n",
    "\n",
    "today = date.today();\n",
    "print(\"Today's date:\", today);"
   ]
  },
  {
   "cell_type": "code",
   "execution_count": 9,
   "id": "7c4a4c30",
   "metadata": {},
   "outputs": [
    {
     "name": "stdout",
     "output_type": "stream",
     "text": [
      "Current date and time : \n",
      "2021-10-24 01:02:47\n"
     ]
    }
   ],
   "source": [
    "# 3. Write a Python program to display the current date and time. \n",
    "\n",
    "import datetime;\n",
    "now = datetime.datetime.now();\n",
    "print (\"Current date and time : \");\n",
    "print (now.strftime(\"%Y-%m-%d %H:%M:%S\"));"
   ]
  },
  {
   "cell_type": "code",
   "execution_count": 10,
   "id": "16b77f5d",
   "metadata": {},
   "outputs": [
    {
     "name": "stdout",
     "output_type": "stream",
     "text": [
      "Enter radius of circle: 7\n",
      "Area of circle = 153.93791\n"
     ]
    }
   ],
   "source": [
    "# 4. Write a Python program which accepts the radius of a circle from the user and compute the area. \n",
    " \n",
    "r = float(input(\"Enter radius of circle: \"));\n",
    "a = 3.14159 * r * r;\n",
    "print(\"Area of circle =\", a);"
   ]
  },
  {
   "cell_type": "code",
   "execution_count": 11,
   "id": "2ef33270",
   "metadata": {},
   "outputs": [
    {
     "name": "stdout",
     "output_type": "stream",
     "text": [
      "Input your First Name : Sidra\n",
      "Input your Last Name : Naeem\n",
      "Hello  Naeem Sidra\n"
     ]
    }
   ],
   "source": [
    "# 5. Write a Python program which accepts the user's first and last name and print them in reverse order with a space between them. \n",
    "\n",
    "fname = input(\"Input your First Name : \");\n",
    "lname = input(\"Input your Last Name : \");\n",
    "print (\"Hello  \" + lname + \" \" + fname);"
   ]
  },
  {
   "cell_type": "code",
   "execution_count": 13,
   "id": "3ec96145",
   "metadata": {},
   "outputs": [
    {
     "name": "stdout",
     "output_type": "stream",
     "text": [
      "enter value 4\n",
      "enter value 5\n",
      "sum: 19\n"
     ]
    }
   ],
   "source": [
    "# 6. Write a python program which takes two inputs from user and print them addition\n",
    "\n",
    "x = input(\"enter value \");\n",
    "y = int(input(\"enter value \"));\n",
    "z = 10;\n",
    "    \n",
    "sum = int(x) + y + z;\n",
    " \n",
    "print(\"sum:\", sum);"
   ]
  },
  {
   "cell_type": "code",
   "execution_count": 16,
   "id": "402eb492",
   "metadata": {},
   "outputs": [
    {
     "name": "stdout",
     "output_type": "stream",
     "text": [
      "Enter English Marks88\n",
      "Enter Math Marks77\n",
      "Enter Science Marks66\n",
      "Enter Islamiat Marks78\n",
      "Enter Urdu Marks70\n",
      "Grade A\n"
     ]
    }
   ],
   "source": [
    "# 7. Write a program which takes 5 inputs from user for different subject’s marks, total it and generate mark sheet using grades ? \n",
    "\n",
    "Eng = int(input(\"Enter English Marks\"));\n",
    "Math = int(input(\"Enter Math Marks\"));\n",
    "Sci = int(input(\"Enter Science Marks\"));\n",
    "Isl = int(input(\"Enter Islamiat Marks\"));\n",
    "Urdu = int(input(\"Enter Urdu Marks\"));\n",
    "Total = 500;\n",
    "\n",
    "Marks = Eng+Math+Isl+Sci+Urdu;\n",
    "\n",
    "Percentage = Marks / Total * 100;\n",
    "\n",
    "if (Percentage >= 80 and Percentage < 100):\n",
    "    print (\"Grade A+\");\n",
    "elif (Percentage >= 70 and Percentage < 80):\n",
    "    print (\"Grade A\");\n",
    "elif (Percentage >= 60 and Percentage < 70):\n",
    "    print (\"Grade B\");\n",
    "elif (Percentage >= 50 and Percentage < 60):\n",
    "     print (\"Grade C\");\n",
    "elif (Percentage >= 40 and Percentage < 50):\n",
    "     print (\"Grade D\");\n",
    "elif (Percentage >= 33 and Percentage < 40):\n",
    "     print (\"Grade E\");\n",
    "elif percent < 0 and percent > 100:\n",
    "    Print (\"You didn't correct percent\")\n",
    "else:\n",
    "    print (\"Grade Fail\");"
   ]
  },
  {
   "cell_type": "code",
   "execution_count": 22,
   "id": "e3479814",
   "metadata": {},
   "outputs": [
    {
     "name": "stdout",
     "output_type": "stream",
     "text": [
      " Identify this number is even or odd: 7\n",
      "7 is Odd\n"
     ]
    }
   ],
   "source": [
    "# 8. Write a program which take input from user and identify that the given number is even or odd? \n",
    "\n",
    "num = int(input(\" Identify this number is even or odd: \"));\n",
    "if (num % 2) == 0:\n",
    "   print(\"{0} is Even\".format(num));\n",
    "else:\n",
    "   print(\"{0} is Odd\".format(num));"
   ]
  },
  {
   "cell_type": "code",
   "execution_count": 25,
   "id": "a48bf87a",
   "metadata": {},
   "outputs": [
    {
     "name": "stdout",
     "output_type": "stream",
     "text": [
      "The length of the list [8, 16, 24, 32, 40, 48, 56, 64, 72, 80] is : 10\n"
     ]
    }
   ],
   "source": [
    "# 9. Write a program which print the length of the list?\n",
    "\n",
    "# list\n",
    "l=[8,16,24,32,40,48,56,64,72,80];\n",
    " \n",
    "print(\"The length of the list\",l, \"is :\",len(l));"
   ]
  },
  {
   "cell_type": "code",
   "execution_count": 54,
   "id": "f8599a35",
   "metadata": {},
   "outputs": [
    {
     "name": "stdout",
     "output_type": "stream",
     "text": [
      "Sum of List:  82\n"
     ]
    }
   ],
   "source": [
    "# 10.Write a Python program to sum all the numeric items in a list? \n",
    "\n",
    "list = ['5','8','12','1','7','15','9','22','3']\n",
    "# Calculate sum of list\n",
    "sum=0\n",
    "for i in list:\n",
    "    sum+=int(i)\n",
    "print('Sum of List: ',sum)"
   ]
  },
  {
   "cell_type": "code",
   "execution_count": 57,
   "id": "4f74e29b",
   "metadata": {},
   "outputs": [
    {
     "name": "stdout",
     "output_type": "stream",
     "text": [
      "Largest number is: 44\n"
     ]
    }
   ],
   "source": [
    "# 11.Write a Python program to get the largest number from a numeric list. \n",
    "\n",
    "List1 = [15, 27, 4, 30, 19, 44, 8, 36]\n",
    "  \n",
    "print(\"Largest number is:\", max(list1))"
   ]
  },
  {
   "cell_type": "code",
   "execution_count": 58,
   "id": "25cddb12",
   "metadata": {},
   "outputs": [
    {
     "name": "stdout",
     "output_type": "stream",
     "text": [
      "1\n",
      "\n",
      "1\n",
      "\n",
      "2\n",
      "\n",
      "3\n",
      "\n"
     ]
    }
   ],
   "source": [
    "# 12. Take a list, say for example this one:\n",
    "# a = [1, 1, 2, 3, 5, 8, 13, 21, 34, 55, 89]\n",
    "# Write a program that prints out all the elements of the list that are less than 5.\n",
    "\n",
    "\n",
    "list= [1, 1, 2, 3, 5, 8, 13, 21, 34, 55, 89]\n",
    "for element in list:\n",
    "    if(int(element) <5):\n",
    "        print(str(element)+\"\\n\")"
   ]
  },
  {
   "cell_type": "code",
   "execution_count": null,
   "id": "c679f1b2",
   "metadata": {},
   "outputs": [],
   "source": []
  }
 ],
 "metadata": {
  "kernelspec": {
   "display_name": "Python 3",
   "language": "python",
   "name": "python3"
  },
  "language_info": {
   "codemirror_mode": {
    "name": "ipython",
    "version": 3
   },
   "file_extension": ".py",
   "mimetype": "text/x-python",
   "name": "python",
   "nbconvert_exporter": "python",
   "pygments_lexer": "ipython3",
   "version": "3.8.8"
  }
 },
 "nbformat": 4,
 "nbformat_minor": 5
}
