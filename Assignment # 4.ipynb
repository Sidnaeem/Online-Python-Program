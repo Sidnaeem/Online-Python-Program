{
 "cells": [
  {
   "cell_type": "markdown",
   "id": "d546f45b",
   "metadata": {},
   "source": [
    "# TASK 1\n",
    "# CALCULATOR USING PYTHON\n",
    "1. Addition\n",
    "2. Subtraction\n",
    "3. Multiplication\n",
    "4. Division\n",
    "5. Power"
   ]
  },
  {
   "cell_type": "code",
   "execution_count": 8,
   "id": "9edb0b4b",
   "metadata": {},
   "outputs": [
    {
     "name": "stdout",
     "output_type": "stream",
     "text": [
      "Select an operation to perform: \n",
      "1. ADD\n",
      "2. Subtract\n",
      "3. Multiply\n",
      "4. Divide\n",
      "5. Power\n",
      "5\n",
      "Enter first number: 2\n",
      "Enter second number: 3\n",
      "The power is 8\n"
     ]
    }
   ],
   "source": [
    "print (\"Select an operation to perform: \")\n",
    "print(\"1. ADD\")\n",
    "print(\"2. Subtract\")\n",
    "print(\"3. Multiply\")\n",
    "print(\"4. Divide\")\n",
    "print(\"5. Power\")\n",
    "\n",
    "operation = input()\n",
    "\n",
    "if operation == \"1\":\n",
    "    num1 = input(\"Enter first number: \");\n",
    "    num2 = input(\"Enter second number: \");\n",
    "    print(\"The sum is \" + str(int(num1) + int(num2)));\n",
    "elif operation == \"2\":\n",
    "    num1 = input(\"Enter first number: \");\n",
    "    num2 = input(\"Enter second number: \");\n",
    "    print(\"The sub is \" + str(int(num1) - int(num2)));\n",
    "elif operation == \"3\":\n",
    "    num1 = input(\"Enter first number: \");\n",
    "    num2 = input(\"Enter second number: \");\n",
    "    print(\"The multiply is \" + str(int(num1) * int(num2)));\n",
    "elif operation == \"4\":\n",
    "    num1 = input(\"Enter first number: \");\n",
    "    num2 = input(\"Enter second number: \");\n",
    "    print(\"The divide is \" + str(int(num1) / int(num2)));\n",
    "elif operation == \"5\":\n",
    "    num1 = input(\"Enter first number: \");\n",
    "    num2 = input(\"Enter second number: \");\n",
    "    print(\"The power is \" + str(int(num1) ** int(num2)));\n",
    "else:\n",
    "    print(\"Invalid Entery\")\n"
   ]
  },
  {
   "cell_type": "markdown",
   "id": "2a7a7635",
   "metadata": {},
   "source": [
    "# TASK 2\n",
    "# Check Numeric values in List"
   ]
  },
  {
   "cell_type": "code",
   "execution_count": 20,
   "id": "3ffc6887",
   "metadata": {},
   "outputs": [
    {
     "name": "stdout",
     "output_type": "stream",
     "text": [
      "5\n",
      "13\n"
     ]
    }
   ],
   "source": [
    "list = [\"Red\", \"Blue\", 5, \"Pink\", 13, \"Orange\"]\n",
    "\n",
    "for i in list:\n",
    "    if type(i) == int:\n",
    "        print(i);"
   ]
  },
  {
   "cell_type": "markdown",
   "id": "73ee2466",
   "metadata": {},
   "source": [
    "# TASK 3\n",
    "# Python Script to add a key to Dictionary"
   ]
  },
  {
   "cell_type": "code",
   "execution_count": 29,
   "id": "58dd1b36",
   "metadata": {},
   "outputs": [
    {
     "name": "stdout",
     "output_type": "stream",
     "text": [
      "{'Pakistan': 'Islamabad', 'UK': 'London', 'France': 'Paris', 'Germany': 'Berlin', 'India': 'Delhi'}\n"
     ]
    }
   ],
   "source": [
    "Capitals = { 'Pakistan':'Islamabad', 'UK':'London', 'France':'Paris', 'Germany':'Berlin'}\n",
    "Capitals['India']='Delhi'\n",
    "print(Capitals);"
   ]
  },
  {
   "cell_type": "markdown",
   "id": "5c8b0037",
   "metadata": {},
   "source": [
    "# TASK 4\n",
    "# Sum Numeric items in a Dictionary"
   ]
  },
  {
   "cell_type": "code",
   "execution_count": 31,
   "id": "850e1275",
   "metadata": {},
   "outputs": [
    {
     "name": "stdout",
     "output_type": "stream",
     "text": [
      "251\n"
     ]
    }
   ],
   "source": [
    "Marks = {'Math':90, 'Physics':84, 'Urdu':77}\n",
    "print(sum(Marks.values()))"
   ]
  },
  {
   "cell_type": "markdown",
   "id": "12881958",
   "metadata": {},
   "source": [
    "# TASK 5\n",
    "# Identify Duplicate Values from List"
   ]
  },
  {
   "cell_type": "code",
   "execution_count": 15,
   "id": "442ee4bc",
   "metadata": {},
   "outputs": [
    {
     "name": "stdout",
     "output_type": "stream",
     "text": [
      "Yes, list contains duplicates\n"
     ]
    }
   ],
   "source": [
    "def checkIfDuplicates_1(listOfCapitals):\n",
    "    ''' Check if given list contains any duplicates '''\n",
    "    if len(listOfCapitals) == len(set(listOfCapitals)):\n",
    "        return False\n",
    "    else:\n",
    "        return True\n",
    "\n",
    "listOfCapitals = ['Karachi', 'Lahore', 'Islamabad', 'Karachi', 'Quetta', 'Peshawar', 'Lahore', 'Hyderabad', 'Karachi']\n",
    "result = checkIfDuplicates_1(listOfCapitals)\n",
    "if result:\n",
    "    print('Yes, list contains duplicates')\n",
    "else:\n",
    "    print('No duplicates found in list')  "
   ]
  },
  {
   "cell_type": "code",
   "execution_count": 16,
   "id": "4eb06a9a",
   "metadata": {},
   "outputs": [
    {
     "name": "stdout",
     "output_type": "stream",
     "text": [
      "['Karachi', 'Lahore', 'Karachi']\n"
     ]
    }
   ],
   "source": [
    "if __name__ == '__main__':\n",
    " \n",
    "    listOfCapitals = ['Karachi', 'Lahore', 'Islamabad', 'Karachi', 'Quetta', 'Peshawar', 'Lahore', 'Hyderabad', 'Karachi']\n",
    "    visited = set()\n",
    "    dup = [x for x in listOfCapitals  if x in visited or (visited.add(x) or False)]\n",
    " \n",
    "    print(dup)"
   ]
  },
  {
   "cell_type": "markdown",
   "id": "ea30d1a0",
   "metadata": {},
   "source": [
    "# TASK 6\n",
    "# Check Key Exist in Dictionary"
   ]
  },
  {
   "cell_type": "code",
   "execution_count": 19,
   "id": "4e944c1f",
   "metadata": {},
   "outputs": [
    {
     "data": {
      "text/plain": [
       "True"
      ]
     },
     "execution_count": 19,
     "metadata": {},
     "output_type": "execute_result"
    }
   ],
   "source": [
    "Capitals = { 'Pakistan':'Islamabad', 'UK':'London', 'France':'Paris', 'Germany':'Berlin'}\n",
    "'UK' in Capitals"
   ]
  },
  {
   "cell_type": "code",
   "execution_count": 20,
   "id": "587b001e",
   "metadata": {},
   "outputs": [
    {
     "name": "stdout",
     "output_type": "stream",
     "text": [
      "Yes, key exist in dictionary\n"
     ]
    }
   ],
   "source": [
    "Capitals = { 'Pakistan':'Islamabad', 'UK':'London', 'France':'Paris', 'Germany':'Berlin'}\n",
    " \n",
    "if 'UK' in Capitals:\n",
    "    print('Yes, key exist in dictionary')\n",
    "else:\n",
    "    print('Key does not exist in dictionary')"
   ]
  },
  {
   "cell_type": "code",
   "execution_count": 21,
   "id": "744a24b2",
   "metadata": {},
   "outputs": [
    {
     "name": "stdout",
     "output_type": "stream",
     "text": [
      "Key does not exist in dictionary\n"
     ]
    }
   ],
   "source": [
    "Capitals = { 'Pakistan':'Islamabad', 'UK':'London', 'France':'Paris', 'Germany':'Berlin'}\n",
    " \n",
    "if 'India' in Capitals:\n",
    "    print('Yes, key exist in dictionary')\n",
    "else:\n",
    "    print('Key does not exist in dictionary')"
   ]
  }
 ],
 "metadata": {
  "kernelspec": {
   "display_name": "Python 3",
   "language": "python",
   "name": "python3"
  },
  "language_info": {
   "codemirror_mode": {
    "name": "ipython",
    "version": 3
   },
   "file_extension": ".py",
   "mimetype": "text/x-python",
   "name": "python",
   "nbconvert_exporter": "python",
   "pygments_lexer": "ipython3",
   "version": "3.8.8"
  }
 },
 "nbformat": 4,
 "nbformat_minor": 5
}
